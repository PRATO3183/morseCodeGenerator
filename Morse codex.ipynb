{
 "cells": [
  {
   "cell_type": "code",
   "execution_count": null,
   "id": "3e4ca2c0",
   "metadata": {},
   "outputs": [],
   "source": [
    "MORSE_CODE_DICT = { 'A':'.-', 'B':'-...', 'C':'-.-.', 'D':'-..', 'E':'.', \n",
    "                    'F':'..-.', 'G':'--.', 'H':'....', 'I':'..', 'J':'.---',\n",
    "                    'K':'-.-', 'L':'.-..', 'M':'--', 'N':'-.', 'O':'---',\n",
    "                    'P':'.--.', 'Q':'--.-', 'R':'.-.', 'S':'...', 'T':'-',\n",
    "                    'U':'..-', 'V':'...-', 'W':'.--', 'X':'-..-', 'Y':'-.--',\n",
    "                    'Z':'--..', '1':'.----', '2':'..---', '3':'...--',\n",
    "                    '4':'....-', '5':'.....', '6':'-....', '7':'--...',\n",
    "                    '8':'---..', '9':'----.', '0':'-----', ',':'--..--',\n",
    "                    '.':'.-.-.-', '?':'..--..', '/':'-..-.', '-':'-....-',\n",
    "                    '(':'-.--.', ')':'-.--.-', ' ':'/'}\n",
    "\n",
    "def encode_message(message):\n",
    "    encoded_message = []\n",
    "    for letter in message.upper():\n",
    "        if letter in MORSE_CODE_DICT:\n",
    "            encoded_message.append(MORSE_CODE_DICT[letter])\n",
    "    return ' '.join(encoded_message)\n",
    "\n",
    "def decode_message(message):\n",
    "    decoded_message = []\n",
    "    words = message.split('/')\n",
    "    for word in words:\n",
    "        letters = word.split()\n",
    "        for letter in letters:\n",
    "            for key, value in MORSE_CODE_DICT.items():\n",
    "                if value == letter:\n",
    "                    decoded_message.append(key)\n",
    "    return ''.join(decoded_message)\n",
    "\n",
    "# Example usage\n",
    "message = \"hello world !?,'\" # ! and ' marks are not shown \n",
    "encoded_message = encode_message(message)\n",
    "print(f\"Encoded message: {encoded_message}\")\n",
    "decoded_message = decode_message(encoded_message)\n",
    "print(f\"Decoded message: {decoded_message}\")"
   ]
  },
  {
   "cell_type": "code",
   "execution_count": 1,
   "id": "8e4f5b18",
   "metadata": {},
   "outputs": [
    {
     "name": "stdout",
     "output_type": "stream",
     "text": [
      "- .... .. ... / .. ... / .- / - . ... - / . -..- .- -- .--. .-.. . / _..._ / ._._. / _...._ / _.__. / _.__._ / _.._. / _.._ / __..__ / ._._._ / ..__.. / ___... / _._._. / \n",
      "THIS IS A TEST EXAMPLE = + - ( ) / * , . ? : ;  \n",
      "this IS A TEST example = + - ( ) / * , . ? : ; \n"
     ]
    }
   ],
   "source": [
    "# Morse code dictionary\n",
    "MORSE_CODE = {'A': '.-', 'B': '-...', 'C': '-.-.', 'D': '-..', 'E': '.',\n",
    "              'F': '..-.', 'G': '--.', 'H': '....', 'I': '..', 'J': '.---', \n",
    "              'K': '-.-', 'L': '.-..', 'M': '--', 'N': '-.', 'O': '---', \n",
    "              'P': '.--.', 'Q': '--.-', 'R': '.-.', 'S': '...', 'T': '-', \n",
    "              'U': '..-', 'V': '...-', 'W': '.--', 'X': '-..-', 'Y': '-.--', 'Z': '--..', \n",
    "              '0': '-----', '1': '.----', '2': '..---', '3': '...--', '4': '....-', \n",
    "              '5': '.....', '6': '-....', '7': '--...', '8': '---..', '9': '----.', \n",
    "              '.': '._._._', ',': '__..__','?': '..__..', ';': '_._._.', ':': '___...', \n",
    "              '-': '_...._', '/': '_.._.', '_': '..__._', '+': '._._.', '*': '_.._', \n",
    "              '=': '_..._', ')': '_.__._', '(': '_.__.'}\n",
    "\n",
    "# Function to translate English text to Morse code\n",
    "def to_morse_code(text):\n",
    "    morse_code = ''\n",
    "    for char in text.upper():\n",
    "        if char in MORSE_CODE:\n",
    "            morse_code += MORSE_CODE[char] + ' '\n",
    "        elif char == ' ':\n",
    "            morse_code += '/ '\n",
    "    return morse_code\n",
    "\n",
    "# Function to translate Morse code to English text\n",
    "def to_english(morse_code):\n",
    "    english = ''\n",
    "    for word in morse_code.split('/'):\n",
    "        for letter in word.split():\n",
    "            for char, code in MORSE_CODE.items():\n",
    "                if code == letter:\n",
    "                    english += char\n",
    "                    break\n",
    "            else:\n",
    "                english += '?'\n",
    "        english += ' '\n",
    "    return english\n",
    "\n",
    "# Example usage\n",
    "text = \"this IS A TEST example = + - ( ) / * , . ? : ; \"\n",
    "morse_code = to_morse_code(text)\n",
    "print(morse_code)\n",
    "english = to_english(morse_code)\n",
    "print(english) #upper cased letters as output of morse code\n",
    "print(text) #input text in usual output"
   ]
  }
 ],
 "metadata": {
  "kernelspec": {
   "display_name": "base",
   "language": "python",
   "name": "python3"
  },
  "language_info": {
   "codemirror_mode": {
    "name": "ipython",
    "version": 3
   },
   "file_extension": ".py",
   "mimetype": "text/x-python",
   "name": "python",
   "nbconvert_exporter": "python",
   "pygments_lexer": "ipython3",
   "version": "3.9.13"
  },
  "vscode": {
   "interpreter": {
    "hash": "5ae58900cfbb8c43ab3495913814b7cf26024f51651a94ce8bf64d6111688e8d"
   }
  }
 },
 "nbformat": 4,
 "nbformat_minor": 5
}
